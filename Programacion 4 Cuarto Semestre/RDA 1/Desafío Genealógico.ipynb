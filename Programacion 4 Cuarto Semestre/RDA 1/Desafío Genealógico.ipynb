{
 "cells": [
  {
   "cell_type": "markdown",
   "id": "07b5cae5",
   "metadata": {},
   "source": [
    "## Ejercicio 1\n",
    "**Tarea: Completa el código para construir el árbol que se muestra en la gráfica. Deberás crear los nodos para cada miembro de la familia y conectarlos correctamente. Usarás la clase `Nodo` que ya conoces, pero esta vez con valores de texto.**"
   ]
  },
  {
   "cell_type": "code",
   "execution_count": 13,
   "id": "cef996f7",
   "metadata": {},
   "outputs": [],
   "source": [
    "# Clase Nodo para representar cada elemento del árbol\n",
    "class Nodo:\n",
    "    def __init__(self, nombre):\n",
    "        self.nombre = nombre\n",
    "        self.hijos = []\n",
    "        self.izq = None\n",
    "        self.der = None\n",
    "\n",
    "# Función para construir el árbol de la expresión\n",
    "def construir_arbol():\n",
    "    abuelo = Nodo(\"Abuelo\")\n",
    "    abuelo.izq = Nodo(\"hijo1\")\n",
    "    abuelo.der = Nodo(\"hijo2\")\n",
    "    \n",
    "    #subarbol izquierdo\n",
    "    abuelo.izq.izq = Nodo(\"nieto1\")\n",
    "    abuelo.izq.der = Nodo(\"nieto2\")\n",
    "    \n",
    "    abuelo.izq.izq.izq = Nodo(\"bisnieto1\")\n",
    "    abuelo.izq.izq.der = Nodo(\"bisnieto2\")\n",
    "    \n",
    "    abuelo.izq.der.izq = Nodo(\"bisnieto3\")\n",
    "    abuelo.izq.der.der = Nodo(\"bisnieto4\")\n",
    "    \n",
    "    #subarbol derecho\n",
    "    abuelo.der.izq = Nodo(\"nieto3\")\n",
    "    abuelo.der.der = Nodo(\"nieto4\")\n",
    "    \n",
    "    abuelo.der.izq.izq = Nodo(\"bisnieto5\")\n",
    "    abuelo.der.izq.der = Nodo(\"bisnieto6\")\n",
    "    \n",
    "    abuelo.der.der.izq = Nodo(\"bisnieto7\")\n",
    "    abuelo.der.der.der = Nodo(\"bisnieto8\")\n",
    "\n",
    "    return abuelo\n",
    "\n",
    "# Construimos el árbol\n",
    "arbol = construir_arbol()\n"
   ]
  },
  {
   "cell_type": "code",
   "execution_count": null,
   "id": "ae2fcd55",
   "metadata": {},
   "outputs": [
    {
     "ename": "TypeError",
     "evalue": "'Nodo' object is not iterable",
     "output_type": "error",
     "traceback": [
      "\u001b[31m---------------------------------------------------------------------------\u001b[39m",
      "\u001b[31mTypeError\u001b[39m                                 Traceback (most recent call last)",
      "\u001b[36mCell\u001b[39m\u001b[36m \u001b[39m\u001b[32mIn[14]\u001b[39m\u001b[32m, line 12\u001b[39m\n\u001b[32m      9\u001b[39m arbol.hijos.append(\u001b[33m\"\u001b[39m\u001b[33mhijo2\u001b[39m\u001b[33m\"\u001b[39m)\n\u001b[32m     11\u001b[39m \u001b[38;5;66;03m# Agregamos las aristas al grafo\u001b[39;00m\n\u001b[32m---> \u001b[39m\u001b[32m12\u001b[39m \u001b[43mG\u001b[49m\u001b[43m.\u001b[49m\u001b[43madd_edges_from\u001b[49m\u001b[43m(\u001b[49m\u001b[43marbol\u001b[49m\u001b[43m)\u001b[49m\n\u001b[32m     14\u001b[39m \u001b[38;5;66;03m# Definimos posiciones para visualizar el árbol de forma jerárquica\u001b[39;00m\n\u001b[32m     15\u001b[39m pos = {\n\u001b[32m     16\u001b[39m     \u001b[33m'\u001b[39m\u001b[33mabuelo\u001b[39m\u001b[33m'\u001b[39m: (\u001b[32m0\u001b[39m, \u001b[32m3\u001b[39m),\n\u001b[32m     17\u001b[39m     \u001b[33m'\u001b[39m\u001b[33mhijo1\u001b[39m\u001b[33m'\u001b[39m: (-\u001b[32m2\u001b[39m, \u001b[32m2\u001b[39m),\n\u001b[32m   (...)\u001b[39m\u001b[32m     30\u001b[39m     \u001b[33m'\u001b[39m\u001b[33mbisnieto8\u001b[39m\u001b[33m'\u001b[39m: (\u001b[32m4\u001b[39m,\u001b[32m0\u001b[39m)\n\u001b[32m     31\u001b[39m }\n",
      "\u001b[36mFile \u001b[39m\u001b[32mc:\\Users\\LENOVO GAMING\\AppData\\Local\\Programs\\Python\\Python313\\Lib\\site-packages\\networkx\\classes\\digraph.py:792\u001b[39m, in \u001b[36mDiGraph.add_edges_from\u001b[39m\u001b[34m(self, ebunch_to_add, **attr)\u001b[39m\n\u001b[32m    737\u001b[39m \u001b[38;5;28;01mdef\u001b[39;00m\u001b[38;5;250m \u001b[39m\u001b[34madd_edges_from\u001b[39m(\u001b[38;5;28mself\u001b[39m, ebunch_to_add, **attr):\n\u001b[32m    738\u001b[39m \u001b[38;5;250m    \u001b[39m\u001b[33;03m\"\"\"Add all the edges in ebunch_to_add.\u001b[39;00m\n\u001b[32m    739\u001b[39m \n\u001b[32m    740\u001b[39m \u001b[33;03m    Parameters\u001b[39;00m\n\u001b[32m   (...)\u001b[39m\u001b[32m    790\u001b[39m \u001b[33;03m    >>> G.add_edges_from(list((5, n) for n in G.nodes))\u001b[39;00m\n\u001b[32m    791\u001b[39m \u001b[33;03m    \"\"\"\u001b[39;00m\n\u001b[32m--> \u001b[39m\u001b[32m792\u001b[39m \u001b[43m    \u001b[49m\u001b[38;5;28;43;01mfor\u001b[39;49;00m\u001b[43m \u001b[49m\u001b[43me\u001b[49m\u001b[43m \u001b[49m\u001b[38;5;129;43;01min\u001b[39;49;00m\u001b[43m \u001b[49m\u001b[43mebunch_to_add\u001b[49m\u001b[43m:\u001b[49m\n\u001b[32m    793\u001b[39m \u001b[43m        \u001b[49m\u001b[43mne\u001b[49m\u001b[43m \u001b[49m\u001b[43m=\u001b[49m\u001b[43m \u001b[49m\u001b[38;5;28;43mlen\u001b[39;49m\u001b[43m(\u001b[49m\u001b[43me\u001b[49m\u001b[43m)\u001b[49m\n\u001b[32m    794\u001b[39m \u001b[43m        \u001b[49m\u001b[38;5;28;43;01mif\u001b[39;49;00m\u001b[43m \u001b[49m\u001b[43mne\u001b[49m\u001b[43m \u001b[49m\u001b[43m==\u001b[49m\u001b[43m \u001b[49m\u001b[32;43m3\u001b[39;49m\u001b[43m:\u001b[49m\n",
      "\u001b[31mTypeError\u001b[39m: 'Nodo' object is not iterable"
     ]
    }
   ],
   "source": [
    "import matplotlib.pyplot as plt\n",
    "import networkx as nx\n",
    "\n",
    "# Creamos un nuevo grafo dirigido\n",
    "G = nx.DiGraph()\n",
    "\n",
    "# Definimos las conexiones entre nodos\n",
    "abuelo.hijos.append(\"hijo1\")\n",
    "arbol.hijos.append(\"hijo2\")\n",
    "\n",
    "# Agregamos las aristas al grafo\n",
    "G.add_edges_from(arbol)\n",
    "\n",
    "# Definimos posiciones para visualizar el árbol de forma jerárquica\n",
    "pos = {\n",
    "    'abuelo': (0, 3),\n",
    "    'hijo1': (-2, 2),\n",
    "    'hijo2': (2, 2),\n",
    "    'nieto1': (-3, 1),\n",
    "    'nieto2': (-1, 1),\n",
    "    'bisnieto1': (-3.5, 0),\n",
    "    'bisnieto2': (-2.5, 0),\n",
    "    'bisnieto3': (-1.5, 0),\n",
    "    'bisnieto4': (-0.5, 0),\n",
    "    'nieto3': (1.5, 1),\n",
    "    'nieto4': (3.5, 1),\n",
    "    'bisnieto5': (1,0),\n",
    "    'bisnieto6': (2,0),\n",
    "    'bisnieto7': (3,0),\n",
    "    'bisnieto8': (4,0)\n",
    "}\n",
    "\n",
    "# Dibujamos el árbol\n",
    "plt.figure(figsize=(10, 6))\n",
    "nx.draw(\n",
    "    G, pos,\n",
    "    with_labels=True,\n",
    "    node_color='lightblue',\n",
    "    node_size=2000,\n",
    "    font_size=13,\n",
    "    font_weight='bold',\n",
    "    arrows=True\n",
    ")\n",
    "plt.title(\"Arbol Genealógico\")\n",
    "plt.axis('off')\n",
    "plt.show()"
   ]
  },
  {
   "cell_type": "markdown",
   "id": "d9c4efec",
   "metadata": {},
   "source": [
    "## Ejercicio 2: Encontrar el Ancestro Común más Cercano\n",
    "**Tarea: Implementa la función `encontrar_ancestro_comun`. Esta función debe recibir la raíz del árbol y los nombres de dos miembros de la familia, y devolver el nombre de su ancestro común más cercano.**"
   ]
  }
 ],
 "metadata": {
  "kernelspec": {
   "display_name": "Python 3",
   "language": "python",
   "name": "python3"
  },
  "language_info": {
   "codemirror_mode": {
    "name": "ipython",
    "version": 3
   },
   "file_extension": ".py",
   "mimetype": "text/x-python",
   "name": "python",
   "nbconvert_exporter": "python",
   "pygments_lexer": "ipython3",
   "version": "3.13.3"
  }
 },
 "nbformat": 4,
 "nbformat_minor": 5
}
