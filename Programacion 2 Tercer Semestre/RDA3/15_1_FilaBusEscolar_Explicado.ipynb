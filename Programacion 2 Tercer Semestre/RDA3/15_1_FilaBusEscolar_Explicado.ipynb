{
 "cells": [
  {
   "cell_type": "markdown",
   "id": "7e64a910",
   "metadata": {},
   "source": [
    "# 🚌 Ejercicio: Fila para Subirse al Bus Escolar\n",
    "\n",
    "Este ejercicio simula una fila de estudiantes que esperan para subirse al bus escolar. Cada estudiante tiene un nombre y un número de asiento asignado. Se suben en el orden que llegaron (FIFO).\n",
    "\n",
    "Nos vamos a enfocar en entender a profundidad cómo se **agrega al final de la fila**."
   ]
  },
  {
   "cell_type": "code",
   "execution_count": 1,
   "id": "74d56a93",
   "metadata": {},
   "outputs": [],
   "source": [
    "# Paso 1: Clase Estudiante\n",
    "class Estudiante:\n",
    "    def __init__(self, nombre, asiento):\n",
    "        self.nombre = nombre\n",
    "        self.asiento = asiento\n"
   ]
  },
  {
   "cell_type": "code",
   "execution_count": 2,
   "id": "bf5ba40d",
   "metadata": {},
   "outputs": [],
   "source": [
    "# Paso 2: Nodo de la fila\n",
    "class NodoEstudiante:\n",
    "    def __init__(self, estudiante):\n",
    "        self.estudiante = estudiante\n",
    "        self.siguiente = None\n"
   ]
  },
  {
   "cell_type": "code",
   "execution_count": 3,
   "id": "1651fbc6",
   "metadata": {},
   "outputs": [],
   "source": [
    "# Paso 3: Fila para subirse al bus\n",
    "class FilaBus:\n",
    "    def __init__(self):\n",
    "        self.primero = None\n",
    "\n",
    "    def llegar_estudiante(self, estudiante):\n",
    "        \"\"\"Agrega un nuevo estudiante al final de la fila.\"\"\"\n",
    "        nuevo = NodoEstudiante(estudiante)  # Se crea un nuevo nodo con el estudiante\n",
    "        if not self.primero:\n",
    "            # Caso 1: La fila está vacía\n",
    "            # El nuevo estudiante es el primero en la fila\n",
    "            self.primero = nuevo\n",
    "        else:\n",
    "            # Caso 2: Hay estudiantes en la fila\n",
    "            # Debemos recorrer desde el primero hasta el último\n",
    "            actual = self.primero\n",
    "            while actual.siguiente:\n",
    "                # Mientras haya alguien detrás, avanzamos\n",
    "                actual = actual.siguiente\n",
    "            # Cuando llegamos al último, lo enlazamos al nuevo\n",
    "            actual.siguiente = nuevo\n",
    "\n",
    "    def subir_estudiante(self):\n",
    "        \"\"\"Simula que el primer estudiante sube al bus y se retira de la fila.\"\"\"\n",
    "        if self.primero:\n",
    "            print(f\"{self.primero.estudiante.nombre} sube al bus y se sienta en el asiento {self.primero.estudiante.asiento}\")\n",
    "            self.primero = self.primero.siguiente\n",
    "        else:\n",
    "            print(\"No hay estudiantes en la fila.\")\n",
    "\n",
    "    def mostrar_fila(self):\n",
    "        \"\"\"Muestra a todos los estudiantes que están en la fila.\"\"\"\n",
    "        actual = self.primero\n",
    "        if not actual:\n",
    "            print(\"La fila está vacía.\")\n",
    "            return\n",
    "        print(\"Fila actual:\")\n",
    "        while actual:\n",
    "            est = actual.estudiante\n",
    "            print(f\"- {est.nombre} (asiento {est.asiento})\")\n",
    "            actual = actual.siguiente\n"
   ]
  },
  {
   "cell_type": "code",
   "execution_count": 4,
   "id": "7abd7381",
   "metadata": {},
   "outputs": [
    {
     "name": "stdout",
     "output_type": "stream",
     "text": [
      "Fila actual:\n",
      "- Ana (asiento 5)\n",
      "- Miguel (asiento 12)\n",
      "- Sofía (asiento 8)\n",
      "Ana sube al bus y se sienta en el asiento 5\n",
      "Miguel sube al bus y se sienta en el asiento 12\n",
      "Fila actual:\n",
      "- Sofía (asiento 8)\n"
     ]
    }
   ],
   "source": [
    "# Prueba del sistema\n",
    "fila_bus = FilaBus()\n",
    "\n",
    "# Llegan estudiantes\n",
    "fila_bus.llegar_estudiante(Estudiante(\"Ana\", 5))\n",
    "fila_bus.llegar_estudiante(Estudiante(\"Miguel\", 12))\n",
    "fila_bus.llegar_estudiante(Estudiante(\"Sofía\", 8))\n",
    "\n",
    "# Mostrar la fila\n",
    "fila_bus.mostrar_fila()\n",
    "\n",
    "# Suben al bus\n",
    "fila_bus.subir_estudiante()\n",
    "fila_bus.subir_estudiante()\n",
    "\n",
    "# Mostrar la fila actualizada\n",
    "fila_bus.mostrar_fila()\n"
   ]
  },
  {
   "cell_type": "markdown",
   "id": "53c69c97",
   "metadata": {},
   "source": [
    "✅ **Explicación clave del método `llegar_estudiante`:**\n",
    "\n",
    "```python\n",
    "nuevo = NodoEstudiante(estudiante)\n",
    "```\n",
    "Creamos un nuevo nodo con el estudiante que acaba de llegar.\n",
    "\n",
    "```python\n",
    "if not self.primero:\n",
    "    self.primero = nuevo\n",
    "```\n",
    "Si la fila está vacía, esta persona se convierte en la primera.\n",
    "\n",
    "```python\n",
    "else:\n",
    "    actual = self.primero\n",
    "    while actual.siguiente:\n",
    "        actual = actual.siguiente\n",
    "    actual.siguiente = nuevo\n",
    "```\n",
    "Si ya hay estudiantes, se recorre uno por uno usando `actual = actual.siguiente` hasta llegar al **último nodo** (donde `siguiente` es `None`). Ahí se enlaza al nuevo al final de la fila."
   ]
  }
 ],
 "metadata": {
  "kernelspec": {
   "display_name": "base",
   "language": "python",
   "name": "python3"
  },
  "language_info": {
   "codemirror_mode": {
    "name": "ipython",
    "version": 3
   },
   "file_extension": ".py",
   "mimetype": "text/x-python",
   "name": "python",
   "nbconvert_exporter": "python",
   "pygments_lexer": "ipython3",
   "version": "3.11.5"
  }
 },
 "nbformat": 4,
 "nbformat_minor": 5
}
